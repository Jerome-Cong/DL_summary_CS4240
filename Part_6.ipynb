{
  "cells": [
    {
      "cell_type": "markdown",
      "source": "# Part 6",
      "metadata": {
        "tags": [],
        "cell_id": "00000-9fd6ee2f-b039-4f0f-a5e3-aae0dc4c3526",
        "deepnote_cell_type": "markdown"
      }
    },
    {
      "cell_type": "markdown",
      "source": "## Assignment 6: RNN, GRU and LSTM\n- Deal with variable length sequential data\n\n**RNN**\n- recursively update states via the forward pass.\n- recurrences depend on length of sequence.\n- Nr of hidden states is preserved, irregardless of the sequence length.\n- x will have same size at every iteration\n- Tanh is often chosen as function for RNN\n- Also called Vanilla or Elman RNN\n\n<img src=\"/image/Example_language_model.png\" height=\"350\" />\n\n- **in** = (seq_length, n_timesteps, input_size)\n- RNN layer = (input_size, hidden_size)\n    - Weight_xh = (input_size, hidden_size)\n    - Weight_hh = (hidden_size, hidden_size)\n    - Bias_xh = (hidden_size)\n    - Bias_hh = (hidden_size)\n- **out** = (seq_length, n_timesteps, hidden_size)\n",
      "metadata": {
        "tags": [],
        "cell_id": "00001-b43dd411-ee42-437e-817f-51e249244ad1",
        "deepnote_cell_type": "markdown"
      }
    },
    {
      "cell_type": "code",
      "metadata": {
        "tags": [],
        "cell_id": "00003-be4c50a5-dbe1-42de-aff2-260335c0c0b5",
        "deepnote_to_be_reexecuted": false,
        "source_hash": "cd5ddb44",
        "execution_millis": 7,
        "execution_start": 1617992338874,
        "deepnote_cell_type": "code"
      },
      "source": "# Vanilla RNN\nimport torch\nimport torch.nn as nn\nfrom torchinfo import summary\n\nseq_length, n_timesteps, input_size, hidden_size = 2, 3, 4, 10\nbias = True\nbidirectional = False\n\n# total_param = 1 * ( input_size + hidden_size + ( 2 <- bias ) ) * hidden_size ( * 2 if bi-directional )\nRNN = nn.RNN(\n    input_size=input_size, \n    hidden_size=hidden_size, \n    num_layers=1, \n    bias=bias, \n    batch_first=True, \n    bidirectional=bidirectional\n    )\n\nmodel_ouput = summary(\n    RNN,\n    (seq_length, n_timesteps, input_size),\n    verbose=2,\n    col_width=16,\n    col_names=[\"input_size\", \"output_size\", \"kernel_size\", \"num_params\", \"mult_adds\"],\n)",
      "execution_count": null,
      "outputs": [
        {
          "name": "stdout",
          "text": "========================================================================================================================\nLayer (type:depth-idx)                   Input Shape      Output Shape     Kernel Shape     Param #          Mult-Adds\n========================================================================================================================\n└─RNN: 0-1                               [2, 3, 4]        [2, 3, 10]       --               160              140\n├─weight_ih_l0                                                             [10, 4]\n├─weight_hh_l0                                                             [10, 10]\n========================================================================================================================\nTotal params: 160\nTrainable params: 160\nNon-trainable params: 0\nTotal mult-adds (M): 0.00\n========================================================================================================================\nInput size (MB): 0.00\nForward/backward pass size (MB): 0.00\nParams size (MB): 0.00\nEstimated Total Size (MB): 0.00\n========================================================================================================================\n",
          "output_type": "stream"
        }
      ]
    },
    {
      "cell_type": "markdown",
      "source": "**GRU**\n- Gated Recurrent Unit\n- **Reset gate**: Learn what info must be forgotten or kept \n- **Update gate**: Learn what new info must be added to the current hidden state\n\n<img src=\"/image/GRU.png\" height=\"350\" />",
      "metadata": {
        "tags": [],
        "cell_id": "00003-b299c3ac-0ff8-4136-b432-97a651c5ee01",
        "deepnote_cell_type": "markdown"
      }
    },
    {
      "cell_type": "code",
      "metadata": {
        "tags": [],
        "cell_id": "00004-a061e622-81aa-47bb-ac06-fc87893c289f",
        "deepnote_to_be_reexecuted": false,
        "source_hash": "1a484474",
        "execution_millis": 9,
        "execution_start": 1617992333605,
        "deepnote_cell_type": "code"
      },
      "source": "# GRU\nimport torch\nimport torch.nn as nn\nfrom torchinfo import summary\n\nseq_length, n_timesteps, input_size, hidden_size = 2, 3, 4, 10\nbias = False\nbidirectional = False\n\n# total_param = 3 * ( input_size + hidden_size + ( 2 <- bias ) ) * hidden_size ( * 2 if bi-directional )\nGRU = nn.GRU(\n    input_size=input_size, \n    hidden_size=hidden_size, \n    num_layers=1, \n    bias=bias, \n    batch_first=True, \n    bidirectional=bidirectional\n    )\n\nmodel_ouput = summary(\n    GRU,\n    (seq_length, n_timesteps, input_size),\n    verbose=2,\n    col_width=16,\n    col_names=[\"input_size\", \"output_size\", \"kernel_size\", \"num_params\", \"mult_adds\"],\n)",
      "execution_count": null,
      "outputs": [
        {
          "name": "stdout",
          "text": "========================================================================================================================\nLayer (type:depth-idx)                   Input Shape      Output Shape     Kernel Shape     Param #          Mult-Adds\n========================================================================================================================\n└─GRU: 0-1                               [2, 3, 4]        [2, 3, 10]       --               420              420\n├─weight_ih_l0                                                             [30, 4]\n├─weight_hh_l0                                                             [30, 10]\n========================================================================================================================\nTotal params: 420\nTrainable params: 420\nNon-trainable params: 0\nTotal mult-adds (M): 0.00\n========================================================================================================================\nInput size (MB): 0.00\nForward/backward pass size (MB): 0.00\nParams size (MB): 0.00\nEstimated Total Size (MB): 0.00\n========================================================================================================================\n",
          "output_type": "stream"
        }
      ]
    },
    {
      "cell_type": "markdown",
      "source": "**LSTM**\n- Long Short-term Memories\n- **Forget gate**: Learn what need to be forgotten or kept\n- **Cell state**: keep track of the state of the cell, what old info should be forgotten, pushed through and what new info added.\n    - Combine forget and update -> updated cell state\n- Memory = cell state\n\n<img src=\"/image/LSTM.png\" height=\"350\" />",
      "metadata": {
        "tags": [],
        "cell_id": "00005-6126fc6d-a374-46b3-b1af-eafe1b6bc938",
        "deepnote_cell_type": "markdown"
      }
    },
    {
      "cell_type": "code",
      "metadata": {
        "tags": [],
        "cell_id": "00005-b5f3d3a2-77ab-4a8c-8ea2-025262971286",
        "deepnote_to_be_reexecuted": false,
        "source_hash": "b6fbc793",
        "execution_millis": 667,
        "execution_start": 1618040466734,
        "deepnote_cell_type": "code"
      },
      "source": "# LSTM\nimport torch\nimport torch.nn as nn\nfrom torchinfo import summary\n\nseq_length, n_timesteps, input_size, hidden_size = 2, 3, 4, 10\nbias = False\nbidirectional = False\n\n# total_param = 4 * ( input_size + hidden_size + ( 2 <- bias ) ) * hidden_size ( * 2 if bi-directional )\nLSTM = nn.LSTM(\n    input_size=input_size, \n    hidden_size=hidden_size, \n    num_layers=1, \n    bias=bias, \n    batch_first=True, \n    bidirectional=bidirectional\n    )\n\nmodel_ouput = summary(\n    LSTM,\n    (seq_length, n_timesteps, input_size),\n    verbose=2,\n    col_width=16,\n    col_names=[\"input_size\", \"output_size\", \"kernel_size\", \"num_params\", \"mult_adds\"],\n)",
      "outputs": [
        {
          "name": "stdout",
          "text": "========================================================================================================================\nLayer (type:depth-idx)                   Input Shape      Output Shape     Kernel Shape     Param #          Mult-Adds\n========================================================================================================================\n└─LSTM: 0-1                              [2, 3, 4]        [2, 3, 10]       --               560              3,360\n├─weight_ih_l0                                                             [40, 4]\n├─weight_hh_l0                                                             [40, 10]\n========================================================================================================================\nTotal params: 560\nTrainable params: 560\nNon-trainable params: 0\nTotal mult-adds (M): 0.00\n========================================================================================================================\nInput size (MB): 0.00\nForward/backward pass size (MB): 0.00\nParams size (MB): 0.00\nEstimated Total Size (MB): 0.00\n========================================================================================================================\n",
          "output_type": "stream"
        }
      ],
      "execution_count": null
    },
    {
      "cell_type": "markdown",
      "source": "<a style='text-decoration:none;line-height:16px;display:flex;color:#5B5B62;padding:10px;justify-content:end;' href='https://deepnote.com?utm_source=created-in-deepnote-cell&projectId=de0be7a9-29e1-4ab6-9ce7-607fa646094e' target=\"_blank\">\n<img alt='Created in deepnote.com' style='display:inline;max-height:16px;margin:0px;margin-right:7.5px;' src='data:image/svg+xml;base64,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' > </img>\nCreated in <span style='font-weight:600;margin-left:4px;'>Deepnote</span></a>",
      "metadata": {
        "tags": [],
        "created_in_deepnote_cell": true,
        "deepnote_cell_type": "markdown"
      }
    }
  ],
  "nbformat": 4,
  "nbformat_minor": 2,
  "metadata": {
    "orig_nbformat": 2,
    "deepnote": {
      "is_reactive": false
    },
    "deepnote_notebook_id": "66376b6e-4068-4fb7-9bb3-589254d514b9",
    "deepnote_execution_queue": []
  }
}